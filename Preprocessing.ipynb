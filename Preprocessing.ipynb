{
 "cells": [
  {
   "cell_type": "markdown",
   "metadata": {},
   "source": [
    "# Preprocessing Data"
   ]
  },
  {
   "cell_type": "code",
   "execution_count": 8,
   "metadata": {},
   "outputs": [],
   "source": [
    "import os.path\n",
    "import os\n",
    "import pandas as pd\n",
    "import numpy as np\n",
    "import censusgeocode as cg\n",
    "path = os.path.abspath(os.getcwd())\n",
    "data_path = os.path.abspath(os.path.join(path,'Data'))\n",
    "odx_path = os.path.join(data_path,'odx')"
   ]
  },
  {
   "cell_type": "code",
   "execution_count": 9,
   "metadata": {},
   "outputs": [
    {
     "data": {
      "text/html": [
       "<div>\n",
       "<style scoped>\n",
       "    .dataframe tbody tr th:only-of-type {\n",
       "        vertical-align: middle;\n",
       "    }\n",
       "\n",
       "    .dataframe tbody tr th {\n",
       "        vertical-align: top;\n",
       "    }\n",
       "\n",
       "    .dataframe thead th {\n",
       "        text-align: right;\n",
       "    }\n",
       "</style>\n",
       "<table border=\"1\" class=\"dataframe\">\n",
       "  <thead>\n",
       "    <tr style=\"text-align: right;\">\n",
       "      <th></th>\n",
       "      <th>stop_id</th>\n",
       "      <th>stop_code</th>\n",
       "      <th>stop_name</th>\n",
       "      <th>stop_lat</th>\n",
       "      <th>stop_lon</th>\n",
       "      <th>rides</th>\n",
       "    </tr>\n",
       "  </thead>\n",
       "  <tbody>\n",
       "    <tr>\n",
       "      <td>0</td>\n",
       "      <td>100148</td>\n",
       "      <td>100148</td>\n",
       "      <td>MARTIN L KING JR DR NW @ CHICAMAUGA AVE NW</td>\n",
       "      <td>33.753823</td>\n",
       "      <td>-84.431838</td>\n",
       "      <td>9043</td>\n",
       "    </tr>\n",
       "    <tr>\n",
       "      <td>1</td>\n",
       "      <td>210829</td>\n",
       "      <td>99971061</td>\n",
       "      <td>DEERFIELD PKWY @ TWO VERIZON PL</td>\n",
       "      <td>34.092878</td>\n",
       "      <td>-84.271101</td>\n",
       "      <td>10204</td>\n",
       "    </tr>\n",
       "    <tr>\n",
       "      <td>2</td>\n",
       "      <td>100150</td>\n",
       "      <td>100150</td>\n",
       "      <td>MARTIN L KING JR DR NW @ CHAPPELL RD</td>\n",
       "      <td>33.753841</td>\n",
       "      <td>-84.433273</td>\n",
       "      <td>9028</td>\n",
       "    </tr>\n",
       "    <tr>\n",
       "      <td>3</td>\n",
       "      <td>100152</td>\n",
       "      <td>100152</td>\n",
       "      <td>FAIR ST SW @ 1ST ST SW</td>\n",
       "      <td>33.748905</td>\n",
       "      <td>-84.425545</td>\n",
       "      <td>8900</td>\n",
       "    </tr>\n",
       "    <tr>\n",
       "      <td>4</td>\n",
       "      <td>100154</td>\n",
       "      <td>100154</td>\n",
       "      <td>FAIR ST@FIRST ST</td>\n",
       "      <td>33.749077</td>\n",
       "      <td>-84.425298</td>\n",
       "      <td>9386</td>\n",
       "    </tr>\n",
       "  </tbody>\n",
       "</table>\n",
       "</div>"
      ],
      "text/plain": [
       "   stop_id  stop_code                                   stop_name   stop_lat  \\\n",
       "0   100148     100148  MARTIN L KING JR DR NW @ CHICAMAUGA AVE NW  33.753823   \n",
       "1   210829   99971061             DEERFIELD PKWY @ TWO VERIZON PL  34.092878   \n",
       "2   100150     100150        MARTIN L KING JR DR NW @ CHAPPELL RD  33.753841   \n",
       "3   100152     100152                      FAIR ST SW @ 1ST ST SW  33.748905   \n",
       "4   100154     100154                            FAIR ST@FIRST ST  33.749077   \n",
       "\n",
       "    stop_lon  rides  \n",
       "0 -84.431838   9043  \n",
       "1 -84.271101  10204  \n",
       "2 -84.433273   9028  \n",
       "3 -84.425545   8900  \n",
       "4 -84.425298   9386  "
      ]
     },
     "execution_count": 9,
     "metadata": {},
     "output_type": "execute_result"
    }
   ],
   "source": [
    "stops = pd.read_csv(os.path.join(data_path,'stops.txt'))\n",
    "# generating data\n",
    "stop_ids = stops['stop_id'].to_numpy()\n",
    "gen = 1000* np.random.normal(size=stop_ids.shape)\n",
    "gen = np.int32(10000 + np.floor(gen))\n",
    "stop_ids = pd.DataFrame(data = [stop_ids,gen]).T\n",
    "stop_ids.columns = ['stop_id','rides']\n",
    "stops = stops.merge(stop_ids)\n",
    "#stops.insert(len(stops.columns),'Block',stops.apply(lambda x: geocode(x.stop_lat,x.stop_lon),axis=1))\n",
    "#stops.insert(len(stops.columns),'Block',2013)\n",
    "stops.head()"
   ]
  },
  {
   "cell_type": "code",
   "execution_count": 16,
   "metadata": {},
   "outputs": [
    {
     "data": {
      "text/plain": [
       "0"
      ]
     },
     "execution_count": 16,
     "metadata": {},
     "output_type": "execute_result"
    }
   ],
   "source": [
    "(stops.stop_name == 'Five Points').sum()"
   ]
  },
  {
   "cell_type": "code",
   "execution_count": 6,
   "metadata": {},
   "outputs": [
    {
     "name": "stdout",
     "output_type": "stream",
     "text": [
      "2018-01-07 03:01:00\n",
      "2018-01-07 16:56:00\n"
     ]
    }
   ],
   "source": [
    "df = pd.read_csv(os.path.join(odx_path,'trips.csv'))\n",
    "time = pd.to_datetime(df.start_time)\n",
    "print(time.min())\n",
    "print(time.max())"
   ]
  },
  {
   "cell_type": "code",
   "execution_count": 7,
   "metadata": {},
   "outputs": [
    {
     "data": {
      "text/plain": [
       "(12849, 13)"
      ]
     },
     "execution_count": 7,
     "metadata": {},
     "output_type": "execute_result"
    }
   ],
   "source": [
    "df.shape"
   ]
  },
  {
   "cell_type": "code",
   "execution_count": 38,
   "metadata": {},
   "outputs": [],
   "source": [
    "census = pd.read_csv(os.path.join(data_path,'census_2010.csv'))\n",
    "census = census.merge(stops,on=\"Block\")"
   ]
  },
  {
   "cell_type": "code",
   "execution_count": 27,
   "metadata": {},
   "outputs": [
    {
     "data": {
      "text/plain": [
       "Index(['Area Name-Legal/Statistical Area Description', 'Qualifying Name',\n",
       "       'Area (Land)', 'Area (Water)', 'Summary Level', 'Geographic Component',\n",
       "       'Region', 'Division', 'FIPS', 'State (FIPS)', 'County', 'Census Tract',\n",
       "       'Block', 'Total Population', 'Total Population.1',\n",
       "       'Total Population: Male', 'Total Population: Male: Under 5 years',\n",
       "       'Total Population: Male: 5 to 9 years',\n",
       "       'Total Population: Male: 10 to 14 years',\n",
       "       'Total Population: Male: 15 to 17 years',\n",
       "       'Total Population: Male: 18 to 24 years',\n",
       "       'Total Population: Male: 25 to 34 years',\n",
       "       'Total Population: Male: 35 to 44 years',\n",
       "       'Total Population: Male: 45 to 54 years',\n",
       "       'Total Population: Male: 55 to 64 years',\n",
       "       'Total Population: Male: 65 and 74 years',\n",
       "       'Total Population: Male: 75 to 84 years',\n",
       "       'Total Population: Male: 85 years and over', 'Total Population: Female',\n",
       "       'Total Population: Female: Under 5 years',\n",
       "       'Total Population: Female: 5 to 9 years',\n",
       "       'Total Population: Female: 10 to 14 years',\n",
       "       'Total Population: Female: 15 to 17 years',\n",
       "       'Total Population: Female: 18 and 24 years',\n",
       "       'Total Population: Female: 25 to 34 years',\n",
       "       'Total Population: Female: 35 to 44 years',\n",
       "       'Total Population: Female: 45 to 54 years',\n",
       "       'Total Population: Female: 55 to 64 years',\n",
       "       'Total Population: Female: 65 and 74 years',\n",
       "       'Total Population: Female: 75 to 84 years',\n",
       "       'Total Population: Female: 85 years and over', 'Total Population.2',\n",
       "       'Total Population: Under 5 years', 'Total Population: 5 to 9 years',\n",
       "       'Total Population: 10 to 14 years', 'Total Population: 15 to 17 years',\n",
       "       'Total Population: 18 to 24 years', 'Total Population: 25 to 34 years',\n",
       "       'Total Population: 35 to 44 years', 'Total Population: 45 to 54 years',\n",
       "       'Total Population: 55 to 64 years', 'Total Population: 65 and 74 years',\n",
       "       'Total Population: 75 to 84 years',\n",
       "       'Total Population: 85 years and over', 'Total population',\n",
       "       'Total population: White alone',\n",
       "       'Total population: Black or African American alone',\n",
       "       'Total population: American Indian and Alaska Native alone',\n",
       "       'Total population: Asian alone',\n",
       "       'Total population: Native Hawaiian and Other Pacific Islander alone',\n",
       "       'Total population: Some Other Race alone',\n",
       "       'Total population: Two or More Races', 'Households',\n",
       "       'Households: Family households',\n",
       "       'Households: Family households: Married-couple family',\n",
       "       'Households: Family households: Other family',\n",
       "       'Households: Family households: Other family: Male householder, no wife present',\n",
       "       'Households: Family households: Other family: Female householder, no husband present',\n",
       "       'Households: Nonfamily households',\n",
       "       'Households: Nonfamily households: Householder living alone',\n",
       "       'Households: Nonfamily households: Householder not living alone'],\n",
       "      dtype='object')"
      ]
     },
     "execution_count": 27,
     "metadata": {},
     "output_type": "execute_result"
    }
   ],
   "source": [
    "census.columns"
   ]
  },
  {
   "cell_type": "code",
   "execution_count": 28,
   "metadata": {},
   "outputs": [
    {
     "data": {
      "text/plain": [
       "array([ 63,  89, 121])"
      ]
     },
     "execution_count": 28,
     "metadata": {},
     "output_type": "execute_result"
    }
   ],
   "source": [
    "pd.unique(census.County)"
   ]
  },
  {
   "cell_type": "code",
   "execution_count": null,
   "metadata": {},
   "outputs": [],
   "source": []
  }
 ],
 "metadata": {
  "kernelspec": {
   "display_name": "Python 3",
   "language": "python",
   "name": "python3"
  },
  "language_info": {
   "codemirror_mode": {
    "name": "ipython",
    "version": 3
   },
   "file_extension": ".py",
   "mimetype": "text/x-python",
   "name": "python",
   "nbconvert_exporter": "python",
   "pygments_lexer": "ipython3",
   "version": "3.7.4"
  }
 },
 "nbformat": 4,
 "nbformat_minor": 4
}
