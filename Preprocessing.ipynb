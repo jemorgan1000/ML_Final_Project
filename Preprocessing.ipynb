{
 "cells": [
  {
   "cell_type": "markdown",
   "metadata": {},
   "source": [
    "# Preprocessing Data"
   ]
  },
  {
   "cell_type": "code",
   "execution_count": 1,
   "metadata": {},
   "outputs": [],
   "source": [
    "import os.path\n",
    "import os\n",
    "import pandas as pd\n",
    "import numpy as np\n",
    "import censusgeocode as cg\n",
    "path = os.path.abspath(os.getcwd())\n",
    "data_path = os.path.abspath(os.path.join(path,'Data'))"
   ]
  },
  {
   "cell_type": "code",
   "execution_count": 2,
   "metadata": {},
   "outputs": [],
   "source": [
    "def geocode(stop_lat, stop_lon):\n",
    "    \"\"\"\n",
    "    \n",
    "    :param stop_lat:\n",
    "    :param stop_lon:\n",
    "    \"\"\"\n",
    "    results = cg.coordinates(x=stop_lon, y=stop_lat)['2010 Census Blocks']\n",
    "    return results[0]['BLOCK']"
   ]
  },
  {
   "cell_type": "code",
   "execution_count": 9,
   "metadata": {},
   "outputs": [
    {
     "ename": "ValueError",
     "evalue": "Unable to parse response from Census",
     "output_type": "error",
     "traceback": [
      "\u001b[0;31m---------------------------------------------------------------------------\u001b[0m",
      "\u001b[0;31mKeyError\u001b[0m                                  Traceback (most recent call last)",
      "\u001b[0;32m~/anaconda3/lib/python3.7/site-packages/censusgeocode/censusgeocode.py\u001b[0m in \u001b[0;36m_fetch\u001b[0;34m(self, searchtype, fields, **kwargs)\u001b[0m\n\u001b[1;32m     96\u001b[0m                 \u001b[0;32mif\u001b[0m \u001b[0;34m\"geographies\"\u001b[0m \u001b[0;32min\u001b[0m \u001b[0mcontent\u001b[0m\u001b[0;34m.\u001b[0m\u001b[0mget\u001b[0m\u001b[0;34m(\u001b[0m\u001b[0;34m'result'\u001b[0m\u001b[0;34m,\u001b[0m \u001b[0;34m{\u001b[0m\u001b[0;34m}\u001b[0m\u001b[0;34m)\u001b[0m\u001b[0;34m:\u001b[0m\u001b[0;34m\u001b[0m\u001b[0;34m\u001b[0m\u001b[0m\n\u001b[0;32m---> 97\u001b[0;31m                     \u001b[0;32mreturn\u001b[0m \u001b[0mGeographyResult\u001b[0m\u001b[0;34m(\u001b[0m\u001b[0mcontent\u001b[0m\u001b[0;34m)\u001b[0m\u001b[0;34m\u001b[0m\u001b[0;34m\u001b[0m\u001b[0m\n\u001b[0m\u001b[1;32m     98\u001b[0m \u001b[0;34m\u001b[0m\u001b[0m\n",
      "\u001b[0;32m~/anaconda3/lib/python3.7/site-packages/censusgeocode/censusgeocode.py\u001b[0m in \u001b[0;36m__init__\u001b[0;34m(self, data)\u001b[0m\n\u001b[1;32m    227\u001b[0m                 \u001b[0;32mtry\u001b[0m\u001b[0;34m:\u001b[0m\u001b[0;34m\u001b[0m\u001b[0;34m\u001b[0m\u001b[0m\n\u001b[0;32m--> 228\u001b[0;31m                     \u001b[0mgeo\u001b[0m\u001b[0;34m[\u001b[0m\u001b[0;34m'CENT'\u001b[0m\u001b[0;34m]\u001b[0m \u001b[0;34m=\u001b[0m \u001b[0mfloat\u001b[0m\u001b[0;34m(\u001b[0m\u001b[0mgeo\u001b[0m\u001b[0;34m[\u001b[0m\u001b[0;34m'CENTLON'\u001b[0m\u001b[0;34m]\u001b[0m\u001b[0;34m)\u001b[0m\u001b[0;34m,\u001b[0m \u001b[0mfloat\u001b[0m\u001b[0;34m(\u001b[0m\u001b[0mgeo\u001b[0m\u001b[0;34m[\u001b[0m\u001b[0;34m'CENTLAT'\u001b[0m\u001b[0;34m]\u001b[0m\u001b[0;34m)\u001b[0m\u001b[0;34m\u001b[0m\u001b[0;34m\u001b[0m\u001b[0m\n\u001b[0m\u001b[1;32m    229\u001b[0m                 \u001b[0;32mexcept\u001b[0m \u001b[0mValueError\u001b[0m\u001b[0;34m:\u001b[0m\u001b[0;34m\u001b[0m\u001b[0;34m\u001b[0m\u001b[0m\n",
      "\u001b[0;31mKeyError\u001b[0m: 'CENTLON'",
      "\nDuring handling of the above exception, another exception occurred:\n",
      "\u001b[0;31mValueError\u001b[0m                                Traceback (most recent call last)",
      "\u001b[0;32m<ipython-input-9-81e33f4b16bd>\u001b[0m in \u001b[0;36m<module>\u001b[0;34m\u001b[0m\n\u001b[1;32m      1\u001b[0m \u001b[0mblocks\u001b[0m \u001b[0;34m=\u001b[0m \u001b[0;34m[\u001b[0m\u001b[0;34m]\u001b[0m\u001b[0;34m\u001b[0m\u001b[0;34m\u001b[0m\u001b[0m\n\u001b[1;32m      2\u001b[0m \u001b[0;32mfor\u001b[0m \u001b[0mind\u001b[0m\u001b[0;34m,\u001b[0m\u001b[0mtup\u001b[0m \u001b[0;32min\u001b[0m \u001b[0mstops\u001b[0m\u001b[0;34m.\u001b[0m\u001b[0miterrows\u001b[0m\u001b[0;34m(\u001b[0m\u001b[0;34m)\u001b[0m\u001b[0;34m:\u001b[0m\u001b[0;34m\u001b[0m\u001b[0;34m\u001b[0m\u001b[0m\n\u001b[0;32m----> 3\u001b[0;31m     \u001b[0mresults\u001b[0m \u001b[0;34m=\u001b[0m \u001b[0mcg\u001b[0m\u001b[0;34m.\u001b[0m\u001b[0mcoordinates\u001b[0m\u001b[0;34m(\u001b[0m\u001b[0mx\u001b[0m\u001b[0;34m=\u001b[0m\u001b[0mtup\u001b[0m\u001b[0;34m.\u001b[0m\u001b[0mstop_lon\u001b[0m\u001b[0;34m,\u001b[0m\u001b[0my\u001b[0m\u001b[0;34m=\u001b[0m\u001b[0mtup\u001b[0m\u001b[0;34m.\u001b[0m\u001b[0mstop_lat\u001b[0m\u001b[0;34m)\u001b[0m\u001b[0;34m\u001b[0m\u001b[0;34m\u001b[0m\u001b[0m\n\u001b[0m\u001b[1;32m      4\u001b[0m     \u001b[0mblocks\u001b[0m\u001b[0;34m.\u001b[0m\u001b[0mappend\u001b[0m\u001b[0;34m(\u001b[0m\u001b[0mresults\u001b[0m\u001b[0;34m)\u001b[0m\u001b[0;34m\u001b[0m\u001b[0;34m\u001b[0m\u001b[0m\n\u001b[1;32m      5\u001b[0m \u001b[0mblocks\u001b[0m\u001b[0;34m\u001b[0m\u001b[0;34m\u001b[0m\u001b[0m\n",
      "\u001b[0;32m~/anaconda3/lib/python3.7/site-packages/censusgeocode/censusgeocode.py\u001b[0m in \u001b[0;36mcoordinates\u001b[0;34m(self, x, y, **kwargs)\u001b[0m\n\u001b[1;32m    113\u001b[0m         }\n\u001b[1;32m    114\u001b[0m \u001b[0;34m\u001b[0m\u001b[0m\n\u001b[0;32m--> 115\u001b[0;31m         \u001b[0;32mreturn\u001b[0m \u001b[0mself\u001b[0m\u001b[0;34m.\u001b[0m\u001b[0m_fetch\u001b[0m\u001b[0;34m(\u001b[0m\u001b[0;34m'coordinates'\u001b[0m\u001b[0;34m,\u001b[0m \u001b[0mfields\u001b[0m\u001b[0;34m,\u001b[0m \u001b[0;34m**\u001b[0m\u001b[0mkwargs\u001b[0m\u001b[0;34m)\u001b[0m\u001b[0;34m\u001b[0m\u001b[0;34m\u001b[0m\u001b[0m\n\u001b[0m\u001b[1;32m    116\u001b[0m \u001b[0;34m\u001b[0m\u001b[0m\n\u001b[1;32m    117\u001b[0m     \u001b[0;32mdef\u001b[0m \u001b[0maddress\u001b[0m\u001b[0;34m(\u001b[0m\u001b[0mself\u001b[0m\u001b[0;34m,\u001b[0m \u001b[0mstreet\u001b[0m\u001b[0;34m,\u001b[0m \u001b[0mcity\u001b[0m\u001b[0;34m=\u001b[0m\u001b[0;32mNone\u001b[0m\u001b[0;34m,\u001b[0m \u001b[0mstate\u001b[0m\u001b[0;34m=\u001b[0m\u001b[0;32mNone\u001b[0m\u001b[0;34m,\u001b[0m \u001b[0mzipcode\u001b[0m\u001b[0;34m=\u001b[0m\u001b[0;32mNone\u001b[0m\u001b[0;34m,\u001b[0m \u001b[0;34m**\u001b[0m\u001b[0mkwargs\u001b[0m\u001b[0;34m)\u001b[0m\u001b[0;34m:\u001b[0m\u001b[0;34m\u001b[0m\u001b[0;34m\u001b[0m\u001b[0m\n",
      "\u001b[0;32m~/anaconda3/lib/python3.7/site-packages/censusgeocode/censusgeocode.py\u001b[0m in \u001b[0;36m_fetch\u001b[0;34m(self, searchtype, fields, **kwargs)\u001b[0m\n\u001b[1;32m    100\u001b[0m \u001b[0;34m\u001b[0m\u001b[0m\n\u001b[1;32m    101\u001b[0m         \u001b[0;32mexcept\u001b[0m \u001b[0;34m(\u001b[0m\u001b[0mValueError\u001b[0m\u001b[0;34m,\u001b[0m \u001b[0mKeyError\u001b[0m\u001b[0;34m)\u001b[0m\u001b[0;34m:\u001b[0m\u001b[0;34m\u001b[0m\u001b[0;34m\u001b[0m\u001b[0m\n\u001b[0;32m--> 102\u001b[0;31m             \u001b[0;32mraise\u001b[0m \u001b[0mValueError\u001b[0m\u001b[0;34m(\u001b[0m\u001b[0;34m\"Unable to parse response from Census\"\u001b[0m\u001b[0;34m)\u001b[0m\u001b[0;34m\u001b[0m\u001b[0;34m\u001b[0m\u001b[0m\n\u001b[0m\u001b[1;32m    103\u001b[0m \u001b[0;34m\u001b[0m\u001b[0m\n\u001b[1;32m    104\u001b[0m         \u001b[0;32mexcept\u001b[0m \u001b[0mRequestException\u001b[0m \u001b[0;32mas\u001b[0m \u001b[0me\u001b[0m\u001b[0;34m:\u001b[0m\u001b[0;34m\u001b[0m\u001b[0;34m\u001b[0m\u001b[0m\n",
      "\u001b[0;31mValueError\u001b[0m: Unable to parse response from Census"
     ]
    }
   ],
   "source": [
    "blocks = []\n",
    "for ind,tup in stops.iterrows():\n",
    "    results = cg.coordinates(x=tup.stop_lon,y=tup.stop_lat)\n",
    "    blocks.append(results)\n",
    "blocks"
   ]
  },
  {
   "cell_type": "code",
   "execution_count": 10,
   "metadata": {},
   "outputs": [
    {
     "data": {
      "text/html": [
       "<div>\n",
       "<style scoped>\n",
       "    .dataframe tbody tr th:only-of-type {\n",
       "        vertical-align: middle;\n",
       "    }\n",
       "\n",
       "    .dataframe tbody tr th {\n",
       "        vertical-align: top;\n",
       "    }\n",
       "\n",
       "    .dataframe thead th {\n",
       "        text-align: right;\n",
       "    }\n",
       "</style>\n",
       "<table border=\"1\" class=\"dataframe\">\n",
       "  <thead>\n",
       "    <tr style=\"text-align: right;\">\n",
       "      <th></th>\n",
       "      <th>stop_id</th>\n",
       "      <th>stop_code</th>\n",
       "      <th>stop_name</th>\n",
       "      <th>stop_lat</th>\n",
       "      <th>stop_lon</th>\n",
       "      <th>rides</th>\n",
       "    </tr>\n",
       "  </thead>\n",
       "  <tbody>\n",
       "    <tr>\n",
       "      <td>0</td>\n",
       "      <td>100148</td>\n",
       "      <td>100148</td>\n",
       "      <td>MARTIN L KING JR DR NW @ CHICAMAUGA AVE NW</td>\n",
       "      <td>33.753823</td>\n",
       "      <td>-84.431838</td>\n",
       "      <td>7807</td>\n",
       "    </tr>\n",
       "    <tr>\n",
       "      <td>1</td>\n",
       "      <td>210829</td>\n",
       "      <td>99971061</td>\n",
       "      <td>DEERFIELD PKWY @ TWO VERIZON PL</td>\n",
       "      <td>34.092878</td>\n",
       "      <td>-84.271101</td>\n",
       "      <td>9781</td>\n",
       "    </tr>\n",
       "    <tr>\n",
       "      <td>2</td>\n",
       "      <td>100150</td>\n",
       "      <td>100150</td>\n",
       "      <td>MARTIN L KING JR DR NW @ CHAPPELL RD</td>\n",
       "      <td>33.753841</td>\n",
       "      <td>-84.433273</td>\n",
       "      <td>9895</td>\n",
       "    </tr>\n",
       "    <tr>\n",
       "      <td>3</td>\n",
       "      <td>100152</td>\n",
       "      <td>100152</td>\n",
       "      <td>FAIR ST SW @ 1ST ST SW</td>\n",
       "      <td>33.748905</td>\n",
       "      <td>-84.425545</td>\n",
       "      <td>10169</td>\n",
       "    </tr>\n",
       "    <tr>\n",
       "      <td>4</td>\n",
       "      <td>100154</td>\n",
       "      <td>100154</td>\n",
       "      <td>FAIR ST@FIRST ST</td>\n",
       "      <td>33.749077</td>\n",
       "      <td>-84.425298</td>\n",
       "      <td>10180</td>\n",
       "    </tr>\n",
       "  </tbody>\n",
       "</table>\n",
       "</div>"
      ],
      "text/plain": [
       "   stop_id  stop_code                                   stop_name   stop_lat  \\\n",
       "0   100148     100148  MARTIN L KING JR DR NW @ CHICAMAUGA AVE NW  33.753823   \n",
       "1   210829   99971061             DEERFIELD PKWY @ TWO VERIZON PL  34.092878   \n",
       "2   100150     100150        MARTIN L KING JR DR NW @ CHAPPELL RD  33.753841   \n",
       "3   100152     100152                      FAIR ST SW @ 1ST ST SW  33.748905   \n",
       "4   100154     100154                            FAIR ST@FIRST ST  33.749077   \n",
       "\n",
       "    stop_lon  rides  \n",
       "0 -84.431838   7807  \n",
       "1 -84.271101   9781  \n",
       "2 -84.433273   9895  \n",
       "3 -84.425545  10169  \n",
       "4 -84.425298  10180  "
      ]
     },
     "execution_count": 10,
     "metadata": {},
     "output_type": "execute_result"
    }
   ],
   "source": [
    "stops = pd.read_csv(os.path.join(data_path,'stops.txt'))\n",
    "# generating data\n",
    "stop_ids = stops['stop_id'].to_numpy()\n",
    "gen = 1000* np.random.normal(size=stop_ids.shape)\n",
    "gen = np.int32(10000 + np.floor(gen))\n",
    "stop_ids = pd.DataFrame(data = [stop_ids,gen]).T\n",
    "stop_ids.columns = ['stop_id','rides']\n",
    "stops = stops.merge(stop_ids)\n",
    "#stops.insert(len(stops.columns),'Block',stops.apply(lambda x: geocode(x.stop_lat,x.stop_lon),axis=1))\n",
    "#stops.insert(len(stops.columns),'Block',2013)\n",
    "stops.head()"
   ]
  },
  {
   "cell_type": "code",
   "execution_count": 11,
   "metadata": {},
   "outputs": [
    {
     "data": {
      "text/plain": [
       "(9170, 6)"
      ]
     },
     "execution_count": 11,
     "metadata": {},
     "output_type": "execute_result"
    }
   ],
   "source": [
    "stops.shape"
   ]
  },
  {
   "cell_type": "code",
   "execution_count": 38,
   "metadata": {},
   "outputs": [],
   "source": [
    "census = pd.read_csv(os.path.join(data_path,'census_2010.csv'))\n",
    "census = census.merge(stops,on=\"Block\")"
   ]
  },
  {
   "cell_type": "code",
   "execution_count": 27,
   "metadata": {},
   "outputs": [
    {
     "data": {
      "text/plain": [
       "Index(['Area Name-Legal/Statistical Area Description', 'Qualifying Name',\n",
       "       'Area (Land)', 'Area (Water)', 'Summary Level', 'Geographic Component',\n",
       "       'Region', 'Division', 'FIPS', 'State (FIPS)', 'County', 'Census Tract',\n",
       "       'Block', 'Total Population', 'Total Population.1',\n",
       "       'Total Population: Male', 'Total Population: Male: Under 5 years',\n",
       "       'Total Population: Male: 5 to 9 years',\n",
       "       'Total Population: Male: 10 to 14 years',\n",
       "       'Total Population: Male: 15 to 17 years',\n",
       "       'Total Population: Male: 18 to 24 years',\n",
       "       'Total Population: Male: 25 to 34 years',\n",
       "       'Total Population: Male: 35 to 44 years',\n",
       "       'Total Population: Male: 45 to 54 years',\n",
       "       'Total Population: Male: 55 to 64 years',\n",
       "       'Total Population: Male: 65 and 74 years',\n",
       "       'Total Population: Male: 75 to 84 years',\n",
       "       'Total Population: Male: 85 years and over', 'Total Population: Female',\n",
       "       'Total Population: Female: Under 5 years',\n",
       "       'Total Population: Female: 5 to 9 years',\n",
       "       'Total Population: Female: 10 to 14 years',\n",
       "       'Total Population: Female: 15 to 17 years',\n",
       "       'Total Population: Female: 18 and 24 years',\n",
       "       'Total Population: Female: 25 to 34 years',\n",
       "       'Total Population: Female: 35 to 44 years',\n",
       "       'Total Population: Female: 45 to 54 years',\n",
       "       'Total Population: Female: 55 to 64 years',\n",
       "       'Total Population: Female: 65 and 74 years',\n",
       "       'Total Population: Female: 75 to 84 years',\n",
       "       'Total Population: Female: 85 years and over', 'Total Population.2',\n",
       "       'Total Population: Under 5 years', 'Total Population: 5 to 9 years',\n",
       "       'Total Population: 10 to 14 years', 'Total Population: 15 to 17 years',\n",
       "       'Total Population: 18 to 24 years', 'Total Population: 25 to 34 years',\n",
       "       'Total Population: 35 to 44 years', 'Total Population: 45 to 54 years',\n",
       "       'Total Population: 55 to 64 years', 'Total Population: 65 and 74 years',\n",
       "       'Total Population: 75 to 84 years',\n",
       "       'Total Population: 85 years and over', 'Total population',\n",
       "       'Total population: White alone',\n",
       "       'Total population: Black or African American alone',\n",
       "       'Total population: American Indian and Alaska Native alone',\n",
       "       'Total population: Asian alone',\n",
       "       'Total population: Native Hawaiian and Other Pacific Islander alone',\n",
       "       'Total population: Some Other Race alone',\n",
       "       'Total population: Two or More Races', 'Households',\n",
       "       'Households: Family households',\n",
       "       'Households: Family households: Married-couple family',\n",
       "       'Households: Family households: Other family',\n",
       "       'Households: Family households: Other family: Male householder, no wife present',\n",
       "       'Households: Family households: Other family: Female householder, no husband present',\n",
       "       'Households: Nonfamily households',\n",
       "       'Households: Nonfamily households: Householder living alone',\n",
       "       'Households: Nonfamily households: Householder not living alone'],\n",
       "      dtype='object')"
      ]
     },
     "execution_count": 27,
     "metadata": {},
     "output_type": "execute_result"
    }
   ],
   "source": [
    "census.columns"
   ]
  },
  {
   "cell_type": "code",
   "execution_count": 28,
   "metadata": {},
   "outputs": [
    {
     "data": {
      "text/plain": [
       "array([ 63,  89, 121])"
      ]
     },
     "execution_count": 28,
     "metadata": {},
     "output_type": "execute_result"
    }
   ],
   "source": [
    "pd.unique(census.County)"
   ]
  },
  {
   "cell_type": "code",
   "execution_count": null,
   "metadata": {},
   "outputs": [],
   "source": []
  }
 ],
 "metadata": {
  "kernelspec": {
   "display_name": "Python 3",
   "language": "python",
   "name": "python3"
  },
  "language_info": {
   "codemirror_mode": {
    "name": "ipython",
    "version": 3
   },
   "file_extension": ".py",
   "mimetype": "text/x-python",
   "name": "python",
   "nbconvert_exporter": "python",
   "pygments_lexer": "ipython3",
   "version": "3.7.4"
  }
 },
 "nbformat": 4,
 "nbformat_minor": 4
}
