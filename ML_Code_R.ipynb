{
 "cells": [
  {
   "cell_type": "markdown",
   "metadata": {},
   "source": [
    "# Machine Learning"
   ]
  },
  {
   "cell_type": "code",
   "execution_count": 22,
   "metadata": {},
   "outputs": [
    {
     "name": "stdout",
     "output_type": "stream",
     "text": [
      "\n",
      "  There is a binary version available but the source version is later:\n",
      "   binary source needs_compilation\n",
      "sf  0.8-1  0.9-0              TRUE\n",
      "\n"
     ]
    },
    {
     "name": "stderr",
     "output_type": "stream",
     "text": [
      "installing the source package ‘sf’\n",
      "\n",
      "\n",
      "Warning message in install.packages(\"sf\"):\n",
      "“installation of package ‘sf’ had non-zero exit status”\n"
     ]
    }
   ],
   "source": [
    "install.packages('sf')"
   ]
  },
  {
   "cell_type": "code",
   "execution_count": 12,
   "metadata": {},
   "outputs": [
    {
     "ename": "ERROR",
     "evalue": "Error in library(sf): there is no package called ‘sf’\n",
     "output_type": "error",
     "traceback": [
      "Error in library(sf): there is no package called ‘sf’\nTraceback:\n",
      "1. library(sf)"
     ]
    }
   ],
   "source": [
    "library(rgdal)\n",
    "library(sf)\n",
    "library(maptools)"
   ]
  },
  {
   "cell_type": "code",
   "execution_count": 4,
   "metadata": {},
   "outputs": [
    {
     "data": {
      "text/html": [
       "<table>\n",
       "<caption>A data.frame: 6 × 5</caption>\n",
       "<thead>\n",
       "\t<tr><th></th><th scope=col>stop_id</th><th scope=col>stop_code</th><th scope=col>stop_name</th><th scope=col>stop_lat</th><th scope=col>stop_lon</th></tr>\n",
       "\t<tr><th></th><th scope=col>&lt;int&gt;</th><th scope=col>&lt;int&gt;</th><th scope=col>&lt;fct&gt;</th><th scope=col>&lt;dbl&gt;</th><th scope=col>&lt;dbl&gt;</th></tr>\n",
       "</thead>\n",
       "<tbody>\n",
       "\t<tr><th scope=row>1</th><td>100148</td><td>  100148</td><td>MARTIN L KING JR DR NW @ CHICAMAUGA AVE NW</td><td>33.75382</td><td>-84.43184</td></tr>\n",
       "\t<tr><th scope=row>2</th><td>210829</td><td>99971061</td><td>DEERFIELD PKWY @ TWO VERIZON PL           </td><td>34.09288</td><td>-84.27110</td></tr>\n",
       "\t<tr><th scope=row>3</th><td>100150</td><td>  100150</td><td>MARTIN L KING JR DR NW @ CHAPPELL RD      </td><td>33.75384</td><td>-84.43327</td></tr>\n",
       "\t<tr><th scope=row>4</th><td>100152</td><td>  100152</td><td>FAIR ST SW @ 1ST ST SW                    </td><td>33.74891</td><td>-84.42554</td></tr>\n",
       "\t<tr><th scope=row>5</th><td>100154</td><td>  100154</td><td>FAIR ST@FIRST ST                          </td><td>33.74908</td><td>-84.42530</td></tr>\n",
       "\t<tr><th scope=row>6</th><td>100160</td><td>  100160</td><td>FAIR ST SW @ LAWTON ST SW                 </td><td>33.74891</td><td>-84.42342</td></tr>\n",
       "</tbody>\n",
       "</table>\n"
      ],
      "text/latex": [
       "A data.frame: 6 × 5\n",
       "\\begin{tabular}{r|lllll}\n",
       "  & stop\\_id & stop\\_code & stop\\_name & stop\\_lat & stop\\_lon\\\\\n",
       "  & <int> & <int> & <fct> & <dbl> & <dbl>\\\\\n",
       "\\hline\n",
       "\t1 & 100148 &   100148 & MARTIN L KING JR DR NW @ CHICAMAUGA AVE NW & 33.75382 & -84.43184\\\\\n",
       "\t2 & 210829 & 99971061 & DEERFIELD PKWY @ TWO VERIZON PL            & 34.09288 & -84.27110\\\\\n",
       "\t3 & 100150 &   100150 & MARTIN L KING JR DR NW @ CHAPPELL RD       & 33.75384 & -84.43327\\\\\n",
       "\t4 & 100152 &   100152 & FAIR ST SW @ 1ST ST SW                     & 33.74891 & -84.42554\\\\\n",
       "\t5 & 100154 &   100154 & FAIR ST@FIRST ST                           & 33.74908 & -84.42530\\\\\n",
       "\t6 & 100160 &   100160 & FAIR ST SW @ LAWTON ST SW                  & 33.74891 & -84.42342\\\\\n",
       "\\end{tabular}\n"
      ],
      "text/markdown": [
       "\n",
       "A data.frame: 6 × 5\n",
       "\n",
       "| <!--/--> | stop_id &lt;int&gt; | stop_code &lt;int&gt; | stop_name &lt;fct&gt; | stop_lat &lt;dbl&gt; | stop_lon &lt;dbl&gt; |\n",
       "|---|---|---|---|---|---|\n",
       "| 1 | 100148 |   100148 | MARTIN L KING JR DR NW @ CHICAMAUGA AVE NW | 33.75382 | -84.43184 |\n",
       "| 2 | 210829 | 99971061 | DEERFIELD PKWY @ TWO VERIZON PL            | 34.09288 | -84.27110 |\n",
       "| 3 | 100150 |   100150 | MARTIN L KING JR DR NW @ CHAPPELL RD       | 33.75384 | -84.43327 |\n",
       "| 4 | 100152 |   100152 | FAIR ST SW @ 1ST ST SW                     | 33.74891 | -84.42554 |\n",
       "| 5 | 100154 |   100154 | FAIR ST@FIRST ST                           | 33.74908 | -84.42530 |\n",
       "| 6 | 100160 |   100160 | FAIR ST SW @ LAWTON ST SW                  | 33.74891 | -84.42342 |\n",
       "\n"
      ],
      "text/plain": [
       "  stop_id stop_code stop_name                                  stop_lat\n",
       "1 100148    100148  MARTIN L KING JR DR NW @ CHICAMAUGA AVE NW 33.75382\n",
       "2 210829  99971061  DEERFIELD PKWY @ TWO VERIZON PL            34.09288\n",
       "3 100150    100150  MARTIN L KING JR DR NW @ CHAPPELL RD       33.75384\n",
       "4 100152    100152  FAIR ST SW @ 1ST ST SW                     33.74891\n",
       "5 100154    100154  FAIR ST@FIRST ST                           33.74908\n",
       "6 100160    100160  FAIR ST SW @ LAWTON ST SW                  33.74891\n",
       "  stop_lon \n",
       "1 -84.43184\n",
       "2 -84.27110\n",
       "3 -84.43327\n",
       "4 -84.42554\n",
       "5 -84.42530\n",
       "6 -84.42342"
      ]
     },
     "metadata": {},
     "output_type": "display_data"
    }
   ],
   "source": [
    "stop_string <- 'Data/stops.txt'\n",
    "shape_string <- 'Data/tl_2017_13_tabblock10.shp'\n",
    "stop_path <- file.path(getwd(),stop_string,fsep='/')\n",
    "shape_path <- file.path(getwd(),shape_string, fsep='/')\n",
    "data_path <- file.path(getwd(),'Data', fsep='/')\n",
    "df <- read.csv(stop_path)\n",
    "head(df)"
   ]
  },
  {
   "cell_type": "code",
   "execution_count": 11,
   "metadata": {},
   "outputs": [
    {
     "ename": "ERROR",
     "evalue": "Error in ogrInfo(dsn = dsn, layer = layer, encoding = encoding, use_iconv = use_iconv, : Cannot open layer\n",
     "output_type": "error",
     "traceback": [
      "Error in ogrInfo(dsn = dsn, layer = layer, encoding = encoding, use_iconv = use_iconv, : Cannot open layer\nTraceback:\n",
      "1. readOGR(dsn = data_path, layer = \"tl_2017_13_tabblock10\")",
      "2. suppressMessages(ogr_info <- ogrInfo(dsn = dsn, layer = layer, \n .     encoding = encoding, use_iconv = use_iconv, swapAxisOrder = swapAxisOrder, \n .     require_geomType = require_geomType))",
      "3. withCallingHandlers(expr, message = function(c) invokeRestart(\"muffleMessage\"))",
      "4. ogrInfo(dsn = dsn, layer = layer, encoding = encoding, use_iconv = use_iconv, \n .     swapAxisOrder = swapAxisOrder, require_geomType = require_geomType)"
     ]
    }
   ],
   "source": [
    "readOGR(dsn=data_path,layer='tl_2017_13_tabblock10')"
   ]
  },
  {
   "cell_type": "code",
   "execution_count": null,
   "metadata": {},
   "outputs": [],
   "source": []
  }
 ],
 "metadata": {
  "kernelspec": {
   "display_name": "R",
   "language": "R",
   "name": "ir"
  },
  "language_info": {
   "codemirror_mode": "r",
   "file_extension": ".r",
   "mimetype": "text/x-r-source",
   "name": "R",
   "pygments_lexer": "r",
   "version": "3.6.1"
  }
 },
 "nbformat": 4,
 "nbformat_minor": 4
}
